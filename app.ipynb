{
 "cells": [
  {
   "cell_type": "code",
   "execution_count": null,
   "id": "33a007b6",
   "metadata": {},
   "outputs": [
    {
     "name": "stdout",
     "output_type": "stream",
     "text": [
      " * Serving Flask app '__main__'\n",
      " * Debug mode: off\n"
     ]
    },
    {
     "name": "stderr",
     "output_type": "stream",
     "text": [
      "WARNING: This is a development server. Do not use it in a production deployment. Use a production WSGI server instead.\n",
      " * Running on http://127.0.0.1:5000\n",
      "Press CTRL+C to quit\n",
      "127.0.0.1 - - [06/Feb/2024 11:17:52] \"GET / HTTP/1.1\" 200 -\n",
      "127.0.0.1 - - [06/Feb/2024 11:17:53] \"GET /favicon.ico HTTP/1.1\" 404 -\n",
      "127.0.0.1 - - [06/Feb/2024 11:17:58] \"POST /result HTTP/1.1\" 200 -\n",
      "127.0.0.1 - - [06/Feb/2024 11:19:28] \"POST /result HTTP/1.1\" 200 -\n",
      "127.0.0.1 - - [06/Feb/2024 11:19:33] \"POST /result HTTP/1.1\" 200 -\n"
     ]
    }
   ],
   "source": [
    "#remember to  pip install textblob\n",
    "from flask import Flask\n",
    "from flask import request, render_template\n",
    "from textblob import TextBlob\n",
    "\n",
    "app = Flask(__name__)\n",
    "\n",
    "@app.route(\"/\", methods = [\"GET\", \"POST\"])\n",
    "def index():\n",
    "    return(render_template(\"index.html\"))\n",
    "    \n",
    "@app.route(\"/result\", methods = [\"GET\", \"POST\"])\n",
    "def result():\n",
    "    t = request.form.get(\"t\")\n",
    "    result = TextBlob(t).sentiment\n",
    "    return(render_template(\"result.html\", result = result))\n",
    "    \n",
    "if __name__==\"__main__\":\n",
    "    app.run()"
   ]
  }
 ],
 "metadata": {
  "kernelspec": {
   "display_name": "Python 3 (ipykernel)",
   "language": "python",
   "name": "python3"
  },
  "language_info": {
   "codemirror_mode": {
    "name": "ipython",
    "version": 3
   },
   "file_extension": ".py",
   "mimetype": "text/x-python",
   "name": "python",
   "nbconvert_exporter": "python",
   "pygments_lexer": "ipython3",
   "version": "3.11.5"
  }
 },
 "nbformat": 4,
 "nbformat_minor": 5
}
